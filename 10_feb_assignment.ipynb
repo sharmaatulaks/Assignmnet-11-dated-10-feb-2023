{
 "cells": [
  {
   "cell_type": "markdown",
   "id": "da531caf-2892-4152-a48c-f22d5a519ede",
   "metadata": {},
   "source": [
    "# <Center> 10 feb Assignment"
   ]
  },
  {
   "cell_type": "markdown",
   "id": "817b1cfd-4f3d-4dd5-932d-4192229c095a",
   "metadata": {},
   "source": [
    "Q1:-  Which function is used to open a file? What are the different modes of opening a file? Explain each mode of file opening."
   ]
  },
  {
   "cell_type": "markdown",
   "id": "0b91a5e5-c26b-4c5b-a153-9c6c47ee3605",
   "metadata": {},
   "source": [
    "Ans 1:- The open() function is used to open a file. When opening a file, you can specify the mode in which the file should be opened. The different modes are:\n",
    "\n",
    "* 'r' (read-only): This mode allows you to read the contents of a file, but not modify it. If the file does not exist, an error will be raised.\n",
    "\n",
    "* 'w' (write): This mode allows you to write to a file, overwriting any existing content. If the file does not exist, it will be created.\n",
    "\n",
    "* 'a' (append): This mode allows you to add new content to the end of a file, without overwriting any existing content. If the file does not exist, it will be created.\n",
    "\n",
    "* 'x' (exclusive creation): This mode is similar to 'w', but it will raise an error if the file already exists.\n",
    "\n",
    "* 'b' (binary mode): This mode is used to read or write binary files such as images or videos.\n",
    "\n",
    "* 't' (text mode): This mode is used to read or write text files.\n",
    "\n",
    "* '+' (read and write): This mode allows you to read from and write to a file. \n",
    "\n",
    "* 'U\" Universal newline mode, deprecated in python 3\n"
   ]
  },
  {
   "cell_type": "markdown",
   "id": "5e9ff4c5-f108-412a-b39d-729f18079978",
   "metadata": {},
   "source": [
    "# open file in read-only mode\n",
    "file = open('example.txt', 'r')\n",
    "\n",
    "# read the contents of the file\n",
    "file_contents = file.read()\n",
    "\n",
    "# close the file\n",
    "file.close()\n",
    "\n",
    "# open file in write mode\n",
    "file = open('example.txt', 'w')\n",
    "\n",
    "# write to the file\n",
    "file.write('Hello, world!')\n",
    "\n",
    "# close the file\n",
    "file.close()\n",
    "\n",
    "# open file in append mode\n",
    "file = open('example.txt', 'a')\n",
    "\n",
    "# append to the file\n",
    "file.write('\\nThis is a new line!')\n",
    "\n",
    "# close the file\n",
    "file.close()\n"
   ]
  },
  {
   "cell_type": "markdown",
   "id": "186f0f7f-6c21-41ca-8dca-d0e1f497f9c3",
   "metadata": {},
   "source": [
    " "
   ]
  },
  {
   "cell_type": "markdown",
   "id": "e31d2b00-c249-49f4-9708-2c594b4b83c0",
   "metadata": {},
   "source": [
    "Q2:- Why close() function is used? Why is it important to close a file?"
   ]
  },
  {
   "cell_type": "markdown",
   "id": "e711cb78-6c5c-4ca2-968f-1f444668b076",
   "metadata": {},
   "source": [
    "Ans 2:- The close() function is used to close a file after it has been opened and used for reading or writing data. It is important to close a file after you are done working with it for several reasons:\n",
    "\n",
    "* To save resources: When you open a file, the operating system assigns a certain amount of resources to keep track of that file while it is being used. If you do not close the file, those resources will continue to be used until the program terminates, which can cause performance issues or even crashes if too many files are left open.\n",
    "\n",
    "* To ensure data integrity: If you write data to a file and do not close it properly, there is a risk that some of the data may not be saved. This is because some operating systems buffer data before writing it to disk, and closing the file ensures that all data is written to disk before the program terminates.\n",
    "\n",
    "* To avoid file locking issues: When a file is opened for writing, it may be \"locked\" by the operating system to prevent other programs from accessing it while it is being modified. If you do not close the file properly, it may remain locked, preventing other programs from accessing it even if your program has finished using it."
   ]
  },
  {
   "cell_type": "markdown",
   "id": "8538e1f3-f059-479d-bad7-79cac8626e0b",
   "metadata": {},
   "source": [
    "To close a file in Python, you simply call the close() method on the file object, like this:\n",
    "\n",
    "file = open('example.txt', 'r')\n",
    "\n",
    "do something with the file here\n",
    "\n",
    "file.close()\n"
   ]
  },
  {
   "cell_type": "markdown",
   "id": "bca2fdc1-8d75-445b-b796-c0268afa324d",
   "metadata": {},
   "source": [
    "Q3:- Write a python program to create a text file. Write ‘I want to become a Data Scientist’ in that file. Then close the file. Open this file and read the content of the file."
   ]
  },
  {
   "cell_type": "code",
   "execution_count": 9,
   "id": "7d72da02-4cde-44ed-a7ef-6e93ec90f101",
   "metadata": {},
   "outputs": [
    {
     "name": "stdout",
     "output_type": "stream",
     "text": [
      "I want to become a Data Scientist\n"
     ]
    }
   ],
   "source": [
    "# program to create a file and write to it\n",
    "\n",
    "file = open(\"text.txt\",'w')\n",
    "\n",
    "file.write(\"I want to become a Data Scientist\")\n",
    "    \n",
    "file.close()\n",
    "\n",
    "file=open(\"text.txt\",'r')\n",
    "print(file.read())\n"
   ]
  },
  {
   "cell_type": "markdown",
   "id": "c6f80a70-2bf6-487e-a09c-21f73261290e",
   "metadata": {},
   "source": [
    " "
   ]
  },
  {
   "cell_type": "markdown",
   "id": "d33ac3db-7f6e-48d9-b66f-ca8d90d3db5f",
   "metadata": {},
   "source": [
    "Q4:-  Explain the following with python code: read(), readline() and readlines()."
   ]
  },
  {
   "cell_type": "markdown",
   "id": "ce6a6073-dbe6-46d7-b107-55628ab6c2c1",
   "metadata": {},
   "source": [
    "Ans 4:-  In Python, there are several methods you can use to read data from a file. Here is an explanation of read(), readline(), and readlines(), along with some example Python code:\n",
    "\n",
    "read(): This method reads the entire contents of a file and returns them as a string. You can specify an optional parameter to control how many characters to read (the default is to read the whole file)."
   ]
  },
  {
   "cell_type": "code",
   "execution_count": 13,
   "id": "c4b17eae-3e23-4fc4-8e31-8c90304a01ce",
   "metadata": {},
   "outputs": [
    {
     "name": "stdout",
     "output_type": "stream",
     "text": [
      "Hello, world!\n",
      "This is a new line!\n"
     ]
    }
   ],
   "source": [
    "# Example usage of read() method\n",
    "with open('example.txt', 'r') as file:\n",
    "    contents = file.read()  # read the entire file into a string\n",
    "    print(contents)\n",
    "file.close()"
   ]
  },
  {
   "cell_type": "markdown",
   "id": "6ded1a2a-edb8-4ffe-baf7-abf54f44b628",
   "metadata": {},
   "source": [
    "* readline(): This method reads a single line from the file and returns it as a string. Each time it is called, it reads the next line in the file. If it reaches the end of the file, it returns an empty string."
   ]
  },
  {
   "cell_type": "code",
   "execution_count": 14,
   "id": "9f9821e4-3135-469f-9711-18c28ea9f4ab",
   "metadata": {},
   "outputs": [
    {
     "name": "stdout",
     "output_type": "stream",
     "text": [
      "Hello, world!\n",
      "\n",
      "This is a new line!\n"
     ]
    }
   ],
   "source": [
    "# Example usage of readline() method\n",
    "with open('example.txt', 'r') as file:\n",
    "    line1 = file.readline()  # read the first line\n",
    "    line2 = file.readline()  # read the second line\n",
    "    print(line1)\n",
    "    print(line2)\n",
    "file.close()"
   ]
  },
  {
   "cell_type": "markdown",
   "id": "8336a2e8-b645-4765-9e88-64f1b15837e9",
   "metadata": {},
   "source": [
    "* readlines(): This method reads all the lines in the file and returns them as a list of strings, where each string represents a single line. You can also specify an optional parameter to control how many lines to read (the default is to read all lines).\n"
   ]
  },
  {
   "cell_type": "code",
   "execution_count": 15,
   "id": "b41ad75e-e383-4ab6-98e7-f5c60aca0586",
   "metadata": {},
   "outputs": [
    {
     "name": "stdout",
     "output_type": "stream",
     "text": [
      "['Hello, world!\\n', 'This is a new line!']\n"
     ]
    }
   ],
   "source": [
    "# Example usage of readlines() method\n",
    "with open('example.txt', 'r') as file:\n",
    "    lines = file.readlines()  # read all lines into a list of strings\n",
    "    print(lines)\n",
    "    \n",
    "file.close()\n"
   ]
  },
  {
   "cell_type": "markdown",
   "id": "d78e1f81-a4b0-498e-9e66-0c943788130e",
   "metadata": {},
   "source": [
    "Q5:- Explain why with statement is used with open(). What is the advantage of using with statement and open() together?"
   ]
  },
  {
   "cell_type": "markdown",
   "id": "0d073ddd-a9d7-4cb5-b225-6a1a1bd3dbf8",
   "metadata": {},
   "source": [
    "Ans 5:- In Python, the with statement is used in conjunction with the open() function to ensure that a file is properly closed after it has been opened and used. The advantage of using the with statement and open() together is that it automatically handles the closing of the file, even if an error occurs while the file is being used."
   ]
  },
  {
   "cell_type": "code",
   "execution_count": 22,
   "id": "9253098c-7f14-4909-aabb-3637183306eb",
   "metadata": {},
   "outputs": [
    {
     "name": "stdout",
     "output_type": "stream",
     "text": [
      "Hello, world!\n",
      "This is a new line!\n",
      "Hello, world!\n",
      "This is a new line!\n"
     ]
    }
   ],
   "source": [
    "# without using with statement\n",
    "file = open('example.txt', 'r')\n",
    "data= file.read()\n",
    "file.close()\n",
    "print(data)\n",
    "# explicitly close the file\n",
    "\n",
    "# with using with statement\n",
    "with open('example.txt', 'r') as file:\n",
    "    print(file.read())\n",
    "\n",
    "# file is automatically closed when the `with` block ends\n",
    "    "
   ]
  },
  {
   "cell_type": "markdown",
   "id": "e3510a7c-89b7-4d03-bbff-45e8b8452cfc",
   "metadata": {},
   "source": [
    "In the first example, we explicitly open the file and then close it after we're done using it. If we forget to close the file or if an error occurs before we have a chance to close it, the file may remain open and use system resources unnecessarily.\n",
    "\n",
    "In contrast, the second example uses the with statement to open the file and automatically close it after the block of code within the with statement has completed. This ensures that the file is always properly closed, even if an error occurs within the block of code.\n",
    "\n",
    "The advantage of using the with statement and open() together is that it simplifies the code and makes it easier to manage resources. It eliminates the need to manually close the file, and also provides a cleaner and more concise way of writing file-handling code. Additionally, it ensures that the file is always properly closed, even in the presence of errors, making the code more robust and reliable."
   ]
  },
  {
   "cell_type": "markdown",
   "id": "73ea595c-d430-4437-bd80-4155fa05091f",
   "metadata": {},
   "source": [
    "Q6:-  Explain the write() and writelines() functions. Give a suitable example."
   ]
  },
  {
   "cell_type": "markdown",
   "id": "d1a887e1-4a73-417b-b6ff-0171d0e92293",
   "metadata": {},
   "source": [
    "Ans 6:- In Python, the write() and writelines() functions are used to write data to a file. Here's a brief explanation of each:\n",
    "\n",
    "* write(): This method writes a single string to a file. If the file already exists, it appends the string to the end of the file (depens upon in which mode file is open, if file is open in 'w' mode it overwrites previous data and if in 'a' mode it append new data after previous data in file). If the file does not exist, it creates the file.\n",
    "\n",
    "* writelines(): This method writes a list of strings to a file. Each string in the list represents a single line, and is written to the file as a separate line. If the file already exists, it appends the lines to the end of the file. If the file does not exist, it creates the file."
   ]
  },
  {
   "cell_type": "code",
   "execution_count": 27,
   "id": "c5a688d6-0a81-4d7f-aa5d-d4de675ecab0",
   "metadata": {},
   "outputs": [
    {
     "name": "stdout",
     "output_type": "stream",
     "text": [
      "This is the first line.\n",
      "This is  line.\n",
      "This is the third line.\n",
      "This is the first line.\n",
      "This is  line.\n",
      "This is the third line.\n",
      "This is the first line.\n",
      "This is  line.\n",
      "This is the third line.\n",
      "\n"
     ]
    }
   ],
   "source": [
    "# Example usage of write() and writelines() methods\n",
    "# Create a file and write some data to it\n",
    "with open('example.txt', 'a') as file:\n",
    "    file.write('This is the first line.\\n')  # write a single line\n",
    "    lines = ['This is  line.\\n', 'This is the third line.\\n']\n",
    "    file.writelines(lines)  # write a list of lines\n",
    "\n",
    "# Read the file to verify its contents\n",
    "with open('example.txt', 'r') as file:\n",
    "    contents = file.read()\n",
    "    print(contents)\n"
   ]
  },
  {
   "cell_type": "markdown",
   "id": "31f076c3-5b03-4edf-a846-bdc7a0b4ea3d",
   "metadata": {},
   "source": [
    "Here code runned three times and files written three timeas as it was opened  in 'a' mode."
   ]
  },
  {
   "cell_type": "markdown",
   "id": "1495c15a-c111-428b-8679-2f4328e48f10",
   "metadata": {},
   "source": [
    "# <center>End of Assignment"
   ]
  },
  {
   "cell_type": "code",
   "execution_count": null,
   "id": "8b77fff4-8edb-4141-b38a-e5907510df62",
   "metadata": {},
   "outputs": [],
   "source": []
  }
 ],
 "metadata": {
  "kernelspec": {
   "display_name": "Python 3 (ipykernel)",
   "language": "python",
   "name": "python3"
  },
  "language_info": {
   "codemirror_mode": {
    "name": "ipython",
    "version": 3
   },
   "file_extension": ".py",
   "mimetype": "text/x-python",
   "name": "python",
   "nbconvert_exporter": "python",
   "pygments_lexer": "ipython3",
   "version": "3.10.8"
  }
 },
 "nbformat": 4,
 "nbformat_minor": 5
}
